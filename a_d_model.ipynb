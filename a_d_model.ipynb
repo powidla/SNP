{
  "nbformat": 4,
  "nbformat_minor": 0,
  "metadata": {
    "colab": {
      "provenance": []
    },
    "kernelspec": {
      "name": "python3",
      "display_name": "Python 3"
    },
    "language_info": {
      "name": "python"
    },
    "accelerator": "GPU",
    "gpuClass": "standard"
  },
  "cells": [
    {
      "cell_type": "code",
      "source": [
        "import pandas as pd\n",
        "import numpy as np\n",
        "import matplotlib.pyplot as plt\n",
        "from sklearn.linear_model import LinearRegression\n",
        "from scipy import stats"
      ],
      "metadata": {
        "id": "-Ecq5_HyGtnt"
      },
      "execution_count": 2,
      "outputs": []
    },
    {
      "cell_type": "markdown",
      "source": [
        "Dataset"
      ],
      "metadata": {
        "id": "0e42yZ5wkF1t"
      }
    },
    {
      "cell_type": "code",
      "source": [
        "data = pd.read_csv(\"snp_data.csv\")\n",
        "data"
      ],
      "metadata": {
        "colab": {
          "base_uri": "https://localhost:8080/",
          "height": 424
        },
        "id": "iQwf5_XMdcX_",
        "outputId": "62cd2a7a-9fff-4665-e10e-c9cf8a12c4e9"
      },
      "execution_count": 3,
      "outputs": [
        {
          "output_type": "execute_result",
          "data": {
            "text/plain": [
              "           ID     trait  snp1_A/G  snp2_C/T  snp3_G/T\n",
              "0    APID0001 -0.909573       1.0       2.0       1.0\n",
              "1    APID0002 -1.042890       0.0       1.0       2.0\n",
              "2    APID0003 -0.564743       1.0       1.0       0.0\n",
              "3    APID0004  0.281898       1.0       0.0       1.0\n",
              "4    APID0005 -1.119414       0.0       2.0       1.0\n",
              "..        ...       ...       ...       ...       ...\n",
              "663  APID0664 -1.395477       2.0       2.0       0.0\n",
              "664  APID0665  0.484364       0.0       0.0       0.0\n",
              "665  APID0666  0.273132       1.0       1.0       2.0\n",
              "666  APID0667 -0.888352       1.0       1.0       0.0\n",
              "667  APID0668 -0.032362       1.0       1.0       1.0\n",
              "\n",
              "[668 rows x 5 columns]"
            ],
            "text/html": [
              "\n",
              "  <div id=\"df-9e35dab1-50e5-4a58-957a-8e4ba3b64cc1\">\n",
              "    <div class=\"colab-df-container\">\n",
              "      <div>\n",
              "<style scoped>\n",
              "    .dataframe tbody tr th:only-of-type {\n",
              "        vertical-align: middle;\n",
              "    }\n",
              "\n",
              "    .dataframe tbody tr th {\n",
              "        vertical-align: top;\n",
              "    }\n",
              "\n",
              "    .dataframe thead th {\n",
              "        text-align: right;\n",
              "    }\n",
              "</style>\n",
              "<table border=\"1\" class=\"dataframe\">\n",
              "  <thead>\n",
              "    <tr style=\"text-align: right;\">\n",
              "      <th></th>\n",
              "      <th>ID</th>\n",
              "      <th>trait</th>\n",
              "      <th>snp1_A/G</th>\n",
              "      <th>snp2_C/T</th>\n",
              "      <th>snp3_G/T</th>\n",
              "    </tr>\n",
              "  </thead>\n",
              "  <tbody>\n",
              "    <tr>\n",
              "      <th>0</th>\n",
              "      <td>APID0001</td>\n",
              "      <td>-0.909573</td>\n",
              "      <td>1.0</td>\n",
              "      <td>2.0</td>\n",
              "      <td>1.0</td>\n",
              "    </tr>\n",
              "    <tr>\n",
              "      <th>1</th>\n",
              "      <td>APID0002</td>\n",
              "      <td>-1.042890</td>\n",
              "      <td>0.0</td>\n",
              "      <td>1.0</td>\n",
              "      <td>2.0</td>\n",
              "    </tr>\n",
              "    <tr>\n",
              "      <th>2</th>\n",
              "      <td>APID0003</td>\n",
              "      <td>-0.564743</td>\n",
              "      <td>1.0</td>\n",
              "      <td>1.0</td>\n",
              "      <td>0.0</td>\n",
              "    </tr>\n",
              "    <tr>\n",
              "      <th>3</th>\n",
              "      <td>APID0004</td>\n",
              "      <td>0.281898</td>\n",
              "      <td>1.0</td>\n",
              "      <td>0.0</td>\n",
              "      <td>1.0</td>\n",
              "    </tr>\n",
              "    <tr>\n",
              "      <th>4</th>\n",
              "      <td>APID0005</td>\n",
              "      <td>-1.119414</td>\n",
              "      <td>0.0</td>\n",
              "      <td>2.0</td>\n",
              "      <td>1.0</td>\n",
              "    </tr>\n",
              "    <tr>\n",
              "      <th>...</th>\n",
              "      <td>...</td>\n",
              "      <td>...</td>\n",
              "      <td>...</td>\n",
              "      <td>...</td>\n",
              "      <td>...</td>\n",
              "    </tr>\n",
              "    <tr>\n",
              "      <th>663</th>\n",
              "      <td>APID0664</td>\n",
              "      <td>-1.395477</td>\n",
              "      <td>2.0</td>\n",
              "      <td>2.0</td>\n",
              "      <td>0.0</td>\n",
              "    </tr>\n",
              "    <tr>\n",
              "      <th>664</th>\n",
              "      <td>APID0665</td>\n",
              "      <td>0.484364</td>\n",
              "      <td>0.0</td>\n",
              "      <td>0.0</td>\n",
              "      <td>0.0</td>\n",
              "    </tr>\n",
              "    <tr>\n",
              "      <th>665</th>\n",
              "      <td>APID0666</td>\n",
              "      <td>0.273132</td>\n",
              "      <td>1.0</td>\n",
              "      <td>1.0</td>\n",
              "      <td>2.0</td>\n",
              "    </tr>\n",
              "    <tr>\n",
              "      <th>666</th>\n",
              "      <td>APID0667</td>\n",
              "      <td>-0.888352</td>\n",
              "      <td>1.0</td>\n",
              "      <td>1.0</td>\n",
              "      <td>0.0</td>\n",
              "    </tr>\n",
              "    <tr>\n",
              "      <th>667</th>\n",
              "      <td>APID0668</td>\n",
              "      <td>-0.032362</td>\n",
              "      <td>1.0</td>\n",
              "      <td>1.0</td>\n",
              "      <td>1.0</td>\n",
              "    </tr>\n",
              "  </tbody>\n",
              "</table>\n",
              "<p>668 rows × 5 columns</p>\n",
              "</div>\n",
              "      <button class=\"colab-df-convert\" onclick=\"convertToInteractive('df-9e35dab1-50e5-4a58-957a-8e4ba3b64cc1')\"\n",
              "              title=\"Convert this dataframe to an interactive table.\"\n",
              "              style=\"display:none;\">\n",
              "        \n",
              "  <svg xmlns=\"http://www.w3.org/2000/svg\" height=\"24px\"viewBox=\"0 0 24 24\"\n",
              "       width=\"24px\">\n",
              "    <path d=\"M0 0h24v24H0V0z\" fill=\"none\"/>\n",
              "    <path d=\"M18.56 5.44l.94 2.06.94-2.06 2.06-.94-2.06-.94-.94-2.06-.94 2.06-2.06.94zm-11 1L8.5 8.5l.94-2.06 2.06-.94-2.06-.94L8.5 2.5l-.94 2.06-2.06.94zm10 10l.94 2.06.94-2.06 2.06-.94-2.06-.94-.94-2.06-.94 2.06-2.06.94z\"/><path d=\"M17.41 7.96l-1.37-1.37c-.4-.4-.92-.59-1.43-.59-.52 0-1.04.2-1.43.59L10.3 9.45l-7.72 7.72c-.78.78-.78 2.05 0 2.83L4 21.41c.39.39.9.59 1.41.59.51 0 1.02-.2 1.41-.59l7.78-7.78 2.81-2.81c.8-.78.8-2.07 0-2.86zM5.41 20L4 18.59l7.72-7.72 1.47 1.35L5.41 20z\"/>\n",
              "  </svg>\n",
              "      </button>\n",
              "      \n",
              "  <style>\n",
              "    .colab-df-container {\n",
              "      display:flex;\n",
              "      flex-wrap:wrap;\n",
              "      gap: 12px;\n",
              "    }\n",
              "\n",
              "    .colab-df-convert {\n",
              "      background-color: #E8F0FE;\n",
              "      border: none;\n",
              "      border-radius: 50%;\n",
              "      cursor: pointer;\n",
              "      display: none;\n",
              "      fill: #1967D2;\n",
              "      height: 32px;\n",
              "      padding: 0 0 0 0;\n",
              "      width: 32px;\n",
              "    }\n",
              "\n",
              "    .colab-df-convert:hover {\n",
              "      background-color: #E2EBFA;\n",
              "      box-shadow: 0px 1px 2px rgba(60, 64, 67, 0.3), 0px 1px 3px 1px rgba(60, 64, 67, 0.15);\n",
              "      fill: #174EA6;\n",
              "    }\n",
              "\n",
              "    [theme=dark] .colab-df-convert {\n",
              "      background-color: #3B4455;\n",
              "      fill: #D2E3FC;\n",
              "    }\n",
              "\n",
              "    [theme=dark] .colab-df-convert:hover {\n",
              "      background-color: #434B5C;\n",
              "      box-shadow: 0px 1px 3px 1px rgba(0, 0, 0, 0.15);\n",
              "      filter: drop-shadow(0px 1px 2px rgba(0, 0, 0, 0.3));\n",
              "      fill: #FFFFFF;\n",
              "    }\n",
              "  </style>\n",
              "\n",
              "      <script>\n",
              "        const buttonEl =\n",
              "          document.querySelector('#df-9e35dab1-50e5-4a58-957a-8e4ba3b64cc1 button.colab-df-convert');\n",
              "        buttonEl.style.display =\n",
              "          google.colab.kernel.accessAllowed ? 'block' : 'none';\n",
              "\n",
              "        async function convertToInteractive(key) {\n",
              "          const element = document.querySelector('#df-9e35dab1-50e5-4a58-957a-8e4ba3b64cc1');\n",
              "          const dataTable =\n",
              "            await google.colab.kernel.invokeFunction('convertToInteractive',\n",
              "                                                     [key], {});\n",
              "          if (!dataTable) return;\n",
              "\n",
              "          const docLinkHtml = 'Like what you see? Visit the ' +\n",
              "            '<a target=\"_blank\" href=https://colab.research.google.com/notebooks/data_table.ipynb>data table notebook</a>'\n",
              "            + ' to learn more about interactive tables.';\n",
              "          element.innerHTML = '';\n",
              "          dataTable['output_type'] = 'display_data';\n",
              "          await google.colab.output.renderOutput(dataTable, element);\n",
              "          const docLink = document.createElement('div');\n",
              "          docLink.innerHTML = docLinkHtml;\n",
              "          element.appendChild(docLink);\n",
              "        }\n",
              "      </script>\n",
              "    </div>\n",
              "  </div>\n",
              "  "
            ]
          },
          "metadata": {},
          "execution_count": 3
        }
      ]
    },
    {
      "cell_type": "code",
      "source": [
        "data = data.dropna()\n",
        "data"
      ],
      "metadata": {
        "colab": {
          "base_uri": "https://localhost:8080/",
          "height": 424
        },
        "id": "B_bcQaG6ekmO",
        "outputId": "9f16b021-184e-4595-d332-92f99598516b"
      },
      "execution_count": 4,
      "outputs": [
        {
          "output_type": "execute_result",
          "data": {
            "text/plain": [
              "           ID     trait  snp1_A/G  snp2_C/T  snp3_G/T\n",
              "0    APID0001 -0.909573       1.0       2.0       1.0\n",
              "1    APID0002 -1.042890       0.0       1.0       2.0\n",
              "2    APID0003 -0.564743       1.0       1.0       0.0\n",
              "3    APID0004  0.281898       1.0       0.0       1.0\n",
              "4    APID0005 -1.119414       0.0       2.0       1.0\n",
              "..        ...       ...       ...       ...       ...\n",
              "663  APID0664 -1.395477       2.0       2.0       0.0\n",
              "664  APID0665  0.484364       0.0       0.0       0.0\n",
              "665  APID0666  0.273132       1.0       1.0       2.0\n",
              "666  APID0667 -0.888352       1.0       1.0       0.0\n",
              "667  APID0668 -0.032362       1.0       1.0       1.0\n",
              "\n",
              "[658 rows x 5 columns]"
            ],
            "text/html": [
              "\n",
              "  <div id=\"df-b0cc919b-0560-4b4c-b4bb-c86d7123eb40\">\n",
              "    <div class=\"colab-df-container\">\n",
              "      <div>\n",
              "<style scoped>\n",
              "    .dataframe tbody tr th:only-of-type {\n",
              "        vertical-align: middle;\n",
              "    }\n",
              "\n",
              "    .dataframe tbody tr th {\n",
              "        vertical-align: top;\n",
              "    }\n",
              "\n",
              "    .dataframe thead th {\n",
              "        text-align: right;\n",
              "    }\n",
              "</style>\n",
              "<table border=\"1\" class=\"dataframe\">\n",
              "  <thead>\n",
              "    <tr style=\"text-align: right;\">\n",
              "      <th></th>\n",
              "      <th>ID</th>\n",
              "      <th>trait</th>\n",
              "      <th>snp1_A/G</th>\n",
              "      <th>snp2_C/T</th>\n",
              "      <th>snp3_G/T</th>\n",
              "    </tr>\n",
              "  </thead>\n",
              "  <tbody>\n",
              "    <tr>\n",
              "      <th>0</th>\n",
              "      <td>APID0001</td>\n",
              "      <td>-0.909573</td>\n",
              "      <td>1.0</td>\n",
              "      <td>2.0</td>\n",
              "      <td>1.0</td>\n",
              "    </tr>\n",
              "    <tr>\n",
              "      <th>1</th>\n",
              "      <td>APID0002</td>\n",
              "      <td>-1.042890</td>\n",
              "      <td>0.0</td>\n",
              "      <td>1.0</td>\n",
              "      <td>2.0</td>\n",
              "    </tr>\n",
              "    <tr>\n",
              "      <th>2</th>\n",
              "      <td>APID0003</td>\n",
              "      <td>-0.564743</td>\n",
              "      <td>1.0</td>\n",
              "      <td>1.0</td>\n",
              "      <td>0.0</td>\n",
              "    </tr>\n",
              "    <tr>\n",
              "      <th>3</th>\n",
              "      <td>APID0004</td>\n",
              "      <td>0.281898</td>\n",
              "      <td>1.0</td>\n",
              "      <td>0.0</td>\n",
              "      <td>1.0</td>\n",
              "    </tr>\n",
              "    <tr>\n",
              "      <th>4</th>\n",
              "      <td>APID0005</td>\n",
              "      <td>-1.119414</td>\n",
              "      <td>0.0</td>\n",
              "      <td>2.0</td>\n",
              "      <td>1.0</td>\n",
              "    </tr>\n",
              "    <tr>\n",
              "      <th>...</th>\n",
              "      <td>...</td>\n",
              "      <td>...</td>\n",
              "      <td>...</td>\n",
              "      <td>...</td>\n",
              "      <td>...</td>\n",
              "    </tr>\n",
              "    <tr>\n",
              "      <th>663</th>\n",
              "      <td>APID0664</td>\n",
              "      <td>-1.395477</td>\n",
              "      <td>2.0</td>\n",
              "      <td>2.0</td>\n",
              "      <td>0.0</td>\n",
              "    </tr>\n",
              "    <tr>\n",
              "      <th>664</th>\n",
              "      <td>APID0665</td>\n",
              "      <td>0.484364</td>\n",
              "      <td>0.0</td>\n",
              "      <td>0.0</td>\n",
              "      <td>0.0</td>\n",
              "    </tr>\n",
              "    <tr>\n",
              "      <th>665</th>\n",
              "      <td>APID0666</td>\n",
              "      <td>0.273132</td>\n",
              "      <td>1.0</td>\n",
              "      <td>1.0</td>\n",
              "      <td>2.0</td>\n",
              "    </tr>\n",
              "    <tr>\n",
              "      <th>666</th>\n",
              "      <td>APID0667</td>\n",
              "      <td>-0.888352</td>\n",
              "      <td>1.0</td>\n",
              "      <td>1.0</td>\n",
              "      <td>0.0</td>\n",
              "    </tr>\n",
              "    <tr>\n",
              "      <th>667</th>\n",
              "      <td>APID0668</td>\n",
              "      <td>-0.032362</td>\n",
              "      <td>1.0</td>\n",
              "      <td>1.0</td>\n",
              "      <td>1.0</td>\n",
              "    </tr>\n",
              "  </tbody>\n",
              "</table>\n",
              "<p>658 rows × 5 columns</p>\n",
              "</div>\n",
              "      <button class=\"colab-df-convert\" onclick=\"convertToInteractive('df-b0cc919b-0560-4b4c-b4bb-c86d7123eb40')\"\n",
              "              title=\"Convert this dataframe to an interactive table.\"\n",
              "              style=\"display:none;\">\n",
              "        \n",
              "  <svg xmlns=\"http://www.w3.org/2000/svg\" height=\"24px\"viewBox=\"0 0 24 24\"\n",
              "       width=\"24px\">\n",
              "    <path d=\"M0 0h24v24H0V0z\" fill=\"none\"/>\n",
              "    <path d=\"M18.56 5.44l.94 2.06.94-2.06 2.06-.94-2.06-.94-.94-2.06-.94 2.06-2.06.94zm-11 1L8.5 8.5l.94-2.06 2.06-.94-2.06-.94L8.5 2.5l-.94 2.06-2.06.94zm10 10l.94 2.06.94-2.06 2.06-.94-2.06-.94-.94-2.06-.94 2.06-2.06.94z\"/><path d=\"M17.41 7.96l-1.37-1.37c-.4-.4-.92-.59-1.43-.59-.52 0-1.04.2-1.43.59L10.3 9.45l-7.72 7.72c-.78.78-.78 2.05 0 2.83L4 21.41c.39.39.9.59 1.41.59.51 0 1.02-.2 1.41-.59l7.78-7.78 2.81-2.81c.8-.78.8-2.07 0-2.86zM5.41 20L4 18.59l7.72-7.72 1.47 1.35L5.41 20z\"/>\n",
              "  </svg>\n",
              "      </button>\n",
              "      \n",
              "  <style>\n",
              "    .colab-df-container {\n",
              "      display:flex;\n",
              "      flex-wrap:wrap;\n",
              "      gap: 12px;\n",
              "    }\n",
              "\n",
              "    .colab-df-convert {\n",
              "      background-color: #E8F0FE;\n",
              "      border: none;\n",
              "      border-radius: 50%;\n",
              "      cursor: pointer;\n",
              "      display: none;\n",
              "      fill: #1967D2;\n",
              "      height: 32px;\n",
              "      padding: 0 0 0 0;\n",
              "      width: 32px;\n",
              "    }\n",
              "\n",
              "    .colab-df-convert:hover {\n",
              "      background-color: #E2EBFA;\n",
              "      box-shadow: 0px 1px 2px rgba(60, 64, 67, 0.3), 0px 1px 3px 1px rgba(60, 64, 67, 0.15);\n",
              "      fill: #174EA6;\n",
              "    }\n",
              "\n",
              "    [theme=dark] .colab-df-convert {\n",
              "      background-color: #3B4455;\n",
              "      fill: #D2E3FC;\n",
              "    }\n",
              "\n",
              "    [theme=dark] .colab-df-convert:hover {\n",
              "      background-color: #434B5C;\n",
              "      box-shadow: 0px 1px 3px 1px rgba(0, 0, 0, 0.15);\n",
              "      filter: drop-shadow(0px 1px 2px rgba(0, 0, 0, 0.3));\n",
              "      fill: #FFFFFF;\n",
              "    }\n",
              "  </style>\n",
              "\n",
              "      <script>\n",
              "        const buttonEl =\n",
              "          document.querySelector('#df-b0cc919b-0560-4b4c-b4bb-c86d7123eb40 button.colab-df-convert');\n",
              "        buttonEl.style.display =\n",
              "          google.colab.kernel.accessAllowed ? 'block' : 'none';\n",
              "\n",
              "        async function convertToInteractive(key) {\n",
              "          const element = document.querySelector('#df-b0cc919b-0560-4b4c-b4bb-c86d7123eb40');\n",
              "          const dataTable =\n",
              "            await google.colab.kernel.invokeFunction('convertToInteractive',\n",
              "                                                     [key], {});\n",
              "          if (!dataTable) return;\n",
              "\n",
              "          const docLinkHtml = 'Like what you see? Visit the ' +\n",
              "            '<a target=\"_blank\" href=https://colab.research.google.com/notebooks/data_table.ipynb>data table notebook</a>'\n",
              "            + ' to learn more about interactive tables.';\n",
              "          element.innerHTML = '';\n",
              "          dataTable['output_type'] = 'display_data';\n",
              "          await google.colab.output.renderOutput(dataTable, element);\n",
              "          const docLink = document.createElement('div');\n",
              "          docLink.innerHTML = docLinkHtml;\n",
              "          element.appendChild(docLink);\n",
              "        }\n",
              "      </script>\n",
              "    </div>\n",
              "  </div>\n",
              "  "
            ]
          },
          "metadata": {},
          "execution_count": 4
        }
      ]
    },
    {
      "cell_type": "markdown",
      "source": [
        "SNP1 - snp1_A/G\n"
      ],
      "metadata": {
        "id": "9T-UDBmX9J8R"
      }
    },
    {
      "cell_type": "code",
      "source": [
        "# A2A2=0, A1A2=1, A1A1=2\n",
        "Mean_snp_1_A2A2 = data[data['snp1_A/G']==0]['trait'].mean()\n",
        "Mean_snp_1_A2A2"
      ],
      "metadata": {
        "colab": {
          "base_uri": "https://localhost:8080/"
        },
        "id": "qFzTiftI7z5p",
        "outputId": "812a057b-8918-420f-e33d-edfef16e60d4"
      },
      "execution_count": 27,
      "outputs": [
        {
          "output_type": "execute_result",
          "data": {
            "text/plain": [
              "-0.03616904406639003"
            ]
          },
          "metadata": {},
          "execution_count": 27
        }
      ]
    },
    {
      "cell_type": "code",
      "source": [
        "# A2A2=0, A1A2=1, A1A1=2\n",
        "Mean_snp_1_A1A2 = data[data['snp1_A/G']==1]['trait'].mean()\n",
        "Mean_snp_1_A1A2"
      ],
      "metadata": {
        "colab": {
          "base_uri": "https://localhost:8080/"
        },
        "id": "kDwPAfU28n_p",
        "outputId": "e3cf1b52-2bd9-43ef-fb0b-a35da9c7624f"
      },
      "execution_count": 28,
      "outputs": [
        {
          "output_type": "execute_result",
          "data": {
            "text/plain": [
              "-0.0918692706354515"
            ]
          },
          "metadata": {},
          "execution_count": 28
        }
      ]
    },
    {
      "cell_type": "code",
      "source": [
        "# A2A2=0, A1A2=1, A1A1=2\n",
        "Mean_snp_1_A1A1 = data[data['snp1_A/G']==2]['trait'].mean()\n",
        "Mean_snp_1_A1A1"
      ],
      "metadata": {
        "colab": {
          "base_uri": "https://localhost:8080/"
        },
        "id": "t5ioBx1m8oGG",
        "outputId": "816ac082-9ccc-40c7-bbee-ab9e0361b0cf"
      },
      "execution_count": 29,
      "outputs": [
        {
          "output_type": "execute_result",
          "data": {
            "text/plain": [
              "-0.0820235386440678"
            ]
          },
          "metadata": {},
          "execution_count": 29
        }
      ]
    },
    {
      "cell_type": "code",
      "source": [
        "# Origin, a/d model\n",
        "O_snp1 = (Mean_snp_1_A2A2 + Mean_snp_1_A1A1) / 2 # Origin for SNP 1\n",
        "a_snp1 = (Mean_snp_1_A1A1 - O_snp1) # a for SNP 1\n",
        "d_snp1 = (Mean_snp_1_A1A2 - O_snp1) # a for SNP 1\n",
        "print('Origin for snp1:', O_snp1)\n",
        "print('a for snp1:', a_snp1)\n",
        "print('d for snp1:', d_snp1)"
      ],
      "metadata": {
        "colab": {
          "base_uri": "https://localhost:8080/"
        },
        "id": "cHZx3xKN-ENi",
        "outputId": "0314c8dd-25e4-4f83-a9c2-9ba13dade7f5"
      },
      "execution_count": 30,
      "outputs": [
        {
          "output_type": "stream",
          "name": "stdout",
          "text": [
            "Origin for snp1: -0.05909629135522892\n",
            "a for snp1: -0.022927247288838888\n",
            "d for snp1: -0.03277297928022258\n"
          ]
        }
      ]
    },
    {
      "cell_type": "markdown",
      "source": [
        "SNP2 - snp2_C/T"
      ],
      "metadata": {
        "id": "z0sgOvzS9OTw"
      }
    },
    {
      "cell_type": "code",
      "source": [
        "# A2A2=0, A1A2=1, A1A1=2\n",
        "Mean_snp_2_A2A2 = data[data['snp2_C/T']==0]['trait'].mean()\n",
        "Mean_snp_2_A2A2"
      ],
      "metadata": {
        "colab": {
          "base_uri": "https://localhost:8080/"
        },
        "id": "Q-Yj2Neb8_b3",
        "outputId": "dc473a09-5873-47e2-df89-12cd6f10a2c9"
      },
      "execution_count": 35,
      "outputs": [
        {
          "output_type": "execute_result",
          "data": {
            "text/plain": [
              "0.13440007876146787"
            ]
          },
          "metadata": {},
          "execution_count": 35
        }
      ]
    },
    {
      "cell_type": "code",
      "source": [
        "# A2A2=0, A1A2=1, A1A1=2\n",
        "Mean_snp_2_A1A2 = data[data['snp2_C/T']==1]['trait'].mean()\n",
        "Mean_snp_2_A1A2"
      ],
      "metadata": {
        "colab": {
          "base_uri": "https://localhost:8080/"
        },
        "id": "LBggeKBy8_fK",
        "outputId": "f0f8baeb-f1fb-4eab-f384-4f268d3dfd4c"
      },
      "execution_count": 36,
      "outputs": [
        {
          "output_type": "execute_result",
          "data": {
            "text/plain": [
              "-0.11927977410029497"
            ]
          },
          "metadata": {},
          "execution_count": 36
        }
      ]
    },
    {
      "cell_type": "code",
      "source": [
        "# A2A2=0, A1A2=1, A1A1=2\n",
        "Mean_snp_2_A1A1 = data[data['snp2_C/T']==2]['trait'].mean()\n",
        "Mean_snp_2_A1A1"
      ],
      "metadata": {
        "colab": {
          "base_uri": "https://localhost:8080/"
        },
        "id": "saPH1VwA8_i1",
        "outputId": "be972e3f-3ed4-446c-f668-23fc5de2debe"
      },
      "execution_count": 37,
      "outputs": [
        {
          "output_type": "execute_result",
          "data": {
            "text/plain": [
              "-0.3438396321782178"
            ]
          },
          "metadata": {},
          "execution_count": 37
        }
      ]
    },
    {
      "cell_type": "code",
      "source": [
        "# Origin, a/d model\n",
        "O_snp2 = (Mean_snp_2_A2A2 + Mean_snp_2_A1A1) / 2 # Origin for SNP 2\n",
        "a_snp2 = (Mean_snp_2_A1A1 - O_snp2) # a for SNP 2\n",
        "d_snp2 = (Mean_snp_2_A1A2 - O_snp2) # a for SNP 2\n",
        "print('Origin for snp2:', O_snp2)\n",
        "print('a for snp2:', a_snp2)\n",
        "print('d for snp2:', d_snp2)"
      ],
      "metadata": {
        "colab": {
          "base_uri": "https://localhost:8080/"
        },
        "id": "efnmDYPi_0R0",
        "outputId": "6917a700-74f3-4851-cc98-c00f057cbb03"
      },
      "execution_count": 47,
      "outputs": [
        {
          "output_type": "stream",
          "name": "stdout",
          "text": [
            "Origin for snp2: -0.10471977670837496\n",
            "a for snp2: -0.23911985546984282\n",
            "d for snp2: -0.014559997391920015\n"
          ]
        }
      ]
    },
    {
      "cell_type": "markdown",
      "source": [
        "SNP3 - snp3_G/T\n"
      ],
      "metadata": {
        "id": "Th18jlLg9ugu"
      }
    },
    {
      "cell_type": "code",
      "source": [
        "# A2A2=0, A1A2=1, A1A1=2\n",
        "Mean_snp_3_A2A2 = data[data['snp3_G/T']==0]['trait'].mean()\n",
        "Mean_snp_3_A2A2"
      ],
      "metadata": {
        "colab": {
          "base_uri": "https://localhost:8080/"
        },
        "id": "0jnQ4YLm9yYK",
        "outputId": "c57b7fef-38dd-49cd-846f-ef1b2d5c7f6f"
      },
      "execution_count": 42,
      "outputs": [
        {
          "output_type": "execute_result",
          "data": {
            "text/plain": [
              "0.07890513753424659"
            ]
          },
          "metadata": {},
          "execution_count": 42
        }
      ]
    },
    {
      "cell_type": "code",
      "source": [
        "# A2A2=0, A1A2=1, A1A1=2\n",
        "Mean_snp_3_A1A2 = data[data['snp3_G/T']==1]['trait'].mean()\n",
        "Mean_snp_3_A1A2"
      ],
      "metadata": {
        "colab": {
          "base_uri": "https://localhost:8080/"
        },
        "id": "e46E0xy-90gH",
        "outputId": "f92ef039-37d5-4a61-d60f-b4b51df185c5"
      },
      "execution_count": 43,
      "outputs": [
        {
          "output_type": "execute_result",
          "data": {
            "text/plain": [
              "-0.15881398111801243"
            ]
          },
          "metadata": {},
          "execution_count": 43
        }
      ]
    },
    {
      "cell_type": "code",
      "source": [
        "# A2A2=0, A1A2=1, A1A1=2\n",
        "Mean_snp_3_A1A1 = data[data['snp3_G/T']==2]['trait'].mean()\n",
        "Mean_snp_3_A1A1"
      ],
      "metadata": {
        "colab": {
          "base_uri": "https://localhost:8080/"
        },
        "id": "fK8N3x0a90ip",
        "outputId": "d3ef695b-35e1-41af-ae39-d95f3fd83678"
      },
      "execution_count": 44,
      "outputs": [
        {
          "output_type": "execute_result",
          "data": {
            "text/plain": [
              "-0.10262010512820512"
            ]
          },
          "metadata": {},
          "execution_count": 44
        }
      ]
    },
    {
      "cell_type": "code",
      "source": [
        "# Origin, a/d model\n",
        "O_snp3 = (Mean_snp_3_A2A2 + Mean_snp_3_A1A1) / 2 # Origin for SNP 2\n",
        "a_snp3 = (Mean_snp_3_A1A1 - O_snp3) # a for SNP 2\n",
        "d_snp3 = (Mean_snp_3_A1A2 - O_snp3) # a for SNP 2\n",
        "print('Origin for snp2:', O_snp3)\n",
        "print('a for snp2:', a_snp3)\n",
        "print('d for snp2:', d_snp3)"
      ],
      "metadata": {
        "colab": {
          "base_uri": "https://localhost:8080/"
        },
        "id": "EE4FagIp_85t",
        "outputId": "2543a5ce-b439-42c9-f1e3-05985b447b37"
      },
      "execution_count": 46,
      "outputs": [
        {
          "output_type": "stream",
          "name": "stdout",
          "text": [
            "Origin for snp2: -0.011857483796979262\n",
            "a for snp2: -0.09076262133122585\n",
            "d for snp2: -0.14695649732103316\n"
          ]
        }
      ]
    }
  ]
}