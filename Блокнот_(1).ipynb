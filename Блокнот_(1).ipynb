{
  "cells": [
    {
      "cell_type": "code",
      "execution_count": 2,
      "metadata": {
        "id": "-Ecq5_HyGtnt"
      },
      "outputs": [],
      "source": [
        "import pandas as pd\n",
        "import numpy as np\n",
        "import matplotlib.pyplot as plt\n",
        "from sklearn.linear_model import LinearRegression\n",
        "from scipy import stats"
      ]
    },
    {
      "cell_type": "markdown",
      "metadata": {
        "id": "0e42yZ5wkF1t"
      },
      "source": [
        "Dataset"
      ]
    },
    {
      "cell_type": "code",
      "execution_count": 3,
      "metadata": {
        "colab": {
          "base_uri": "https://localhost:8080/",
          "height": 424
        },
        "id": "iQwf5_XMdcX_",
        "outputId": "ec3d8a85-2d7b-4f2b-ebb5-1ca3a38f1bfe"
      },
      "outputs": [
        {
          "output_type": "execute_result",
          "data": {
            "text/plain": [
              "           ID     trait  snp1_A/G  snp2_C/T  snp3_G/T\n",
              "0    APID0001 -0.909573       1.0       2.0       1.0\n",
              "1    APID0002 -1.042890       0.0       1.0       2.0\n",
              "2    APID0003 -0.564743       1.0       1.0       0.0\n",
              "3    APID0004  0.281898       1.0       0.0       1.0\n",
              "4    APID0005 -1.119414       0.0       2.0       1.0\n",
              "..        ...       ...       ...       ...       ...\n",
              "663  APID0664 -1.395477       2.0       2.0       0.0\n",
              "664  APID0665  0.484364       0.0       0.0       0.0\n",
              "665  APID0666  0.273132       1.0       1.0       2.0\n",
              "666  APID0667 -0.888352       1.0       1.0       0.0\n",
              "667  APID0668 -0.032362       1.0       1.0       1.0\n",
              "\n",
              "[668 rows x 5 columns]"
            ],
            "text/html": [
              "\n",
              "  <div id=\"df-f5449438-736c-4120-aba0-4f6cf71ab6ca\">\n",
              "    <div class=\"colab-df-container\">\n",
              "      <div>\n",
              "<style scoped>\n",
              "    .dataframe tbody tr th:only-of-type {\n",
              "        vertical-align: middle;\n",
              "    }\n",
              "\n",
              "    .dataframe tbody tr th {\n",
              "        vertical-align: top;\n",
              "    }\n",
              "\n",
              "    .dataframe thead th {\n",
              "        text-align: right;\n",
              "    }\n",
              "</style>\n",
              "<table border=\"1\" class=\"dataframe\">\n",
              "  <thead>\n",
              "    <tr style=\"text-align: right;\">\n",
              "      <th></th>\n",
              "      <th>ID</th>\n",
              "      <th>trait</th>\n",
              "      <th>snp1_A/G</th>\n",
              "      <th>snp2_C/T</th>\n",
              "      <th>snp3_G/T</th>\n",
              "    </tr>\n",
              "  </thead>\n",
              "  <tbody>\n",
              "    <tr>\n",
              "      <th>0</th>\n",
              "      <td>APID0001</td>\n",
              "      <td>-0.909573</td>\n",
              "      <td>1.0</td>\n",
              "      <td>2.0</td>\n",
              "      <td>1.0</td>\n",
              "    </tr>\n",
              "    <tr>\n",
              "      <th>1</th>\n",
              "      <td>APID0002</td>\n",
              "      <td>-1.042890</td>\n",
              "      <td>0.0</td>\n",
              "      <td>1.0</td>\n",
              "      <td>2.0</td>\n",
              "    </tr>\n",
              "    <tr>\n",
              "      <th>2</th>\n",
              "      <td>APID0003</td>\n",
              "      <td>-0.564743</td>\n",
              "      <td>1.0</td>\n",
              "      <td>1.0</td>\n",
              "      <td>0.0</td>\n",
              "    </tr>\n",
              "    <tr>\n",
              "      <th>3</th>\n",
              "      <td>APID0004</td>\n",
              "      <td>0.281898</td>\n",
              "      <td>1.0</td>\n",
              "      <td>0.0</td>\n",
              "      <td>1.0</td>\n",
              "    </tr>\n",
              "    <tr>\n",
              "      <th>4</th>\n",
              "      <td>APID0005</td>\n",
              "      <td>-1.119414</td>\n",
              "      <td>0.0</td>\n",
              "      <td>2.0</td>\n",
              "      <td>1.0</td>\n",
              "    </tr>\n",
              "    <tr>\n",
              "      <th>...</th>\n",
              "      <td>...</td>\n",
              "      <td>...</td>\n",
              "      <td>...</td>\n",
              "      <td>...</td>\n",
              "      <td>...</td>\n",
              "    </tr>\n",
              "    <tr>\n",
              "      <th>663</th>\n",
              "      <td>APID0664</td>\n",
              "      <td>-1.395477</td>\n",
              "      <td>2.0</td>\n",
              "      <td>2.0</td>\n",
              "      <td>0.0</td>\n",
              "    </tr>\n",
              "    <tr>\n",
              "      <th>664</th>\n",
              "      <td>APID0665</td>\n",
              "      <td>0.484364</td>\n",
              "      <td>0.0</td>\n",
              "      <td>0.0</td>\n",
              "      <td>0.0</td>\n",
              "    </tr>\n",
              "    <tr>\n",
              "      <th>665</th>\n",
              "      <td>APID0666</td>\n",
              "      <td>0.273132</td>\n",
              "      <td>1.0</td>\n",
              "      <td>1.0</td>\n",
              "      <td>2.0</td>\n",
              "    </tr>\n",
              "    <tr>\n",
              "      <th>666</th>\n",
              "      <td>APID0667</td>\n",
              "      <td>-0.888352</td>\n",
              "      <td>1.0</td>\n",
              "      <td>1.0</td>\n",
              "      <td>0.0</td>\n",
              "    </tr>\n",
              "    <tr>\n",
              "      <th>667</th>\n",
              "      <td>APID0668</td>\n",
              "      <td>-0.032362</td>\n",
              "      <td>1.0</td>\n",
              "      <td>1.0</td>\n",
              "      <td>1.0</td>\n",
              "    </tr>\n",
              "  </tbody>\n",
              "</table>\n",
              "<p>668 rows × 5 columns</p>\n",
              "</div>\n",
              "      <button class=\"colab-df-convert\" onclick=\"convertToInteractive('df-f5449438-736c-4120-aba0-4f6cf71ab6ca')\"\n",
              "              title=\"Convert this dataframe to an interactive table.\"\n",
              "              style=\"display:none;\">\n",
              "        \n",
              "  <svg xmlns=\"http://www.w3.org/2000/svg\" height=\"24px\"viewBox=\"0 0 24 24\"\n",
              "       width=\"24px\">\n",
              "    <path d=\"M0 0h24v24H0V0z\" fill=\"none\"/>\n",
              "    <path d=\"M18.56 5.44l.94 2.06.94-2.06 2.06-.94-2.06-.94-.94-2.06-.94 2.06-2.06.94zm-11 1L8.5 8.5l.94-2.06 2.06-.94-2.06-.94L8.5 2.5l-.94 2.06-2.06.94zm10 10l.94 2.06.94-2.06 2.06-.94-2.06-.94-.94-2.06-.94 2.06-2.06.94z\"/><path d=\"M17.41 7.96l-1.37-1.37c-.4-.4-.92-.59-1.43-.59-.52 0-1.04.2-1.43.59L10.3 9.45l-7.72 7.72c-.78.78-.78 2.05 0 2.83L4 21.41c.39.39.9.59 1.41.59.51 0 1.02-.2 1.41-.59l7.78-7.78 2.81-2.81c.8-.78.8-2.07 0-2.86zM5.41 20L4 18.59l7.72-7.72 1.47 1.35L5.41 20z\"/>\n",
              "  </svg>\n",
              "      </button>\n",
              "      \n",
              "  <style>\n",
              "    .colab-df-container {\n",
              "      display:flex;\n",
              "      flex-wrap:wrap;\n",
              "      gap: 12px;\n",
              "    }\n",
              "\n",
              "    .colab-df-convert {\n",
              "      background-color: #E8F0FE;\n",
              "      border: none;\n",
              "      border-radius: 50%;\n",
              "      cursor: pointer;\n",
              "      display: none;\n",
              "      fill: #1967D2;\n",
              "      height: 32px;\n",
              "      padding: 0 0 0 0;\n",
              "      width: 32px;\n",
              "    }\n",
              "\n",
              "    .colab-df-convert:hover {\n",
              "      background-color: #E2EBFA;\n",
              "      box-shadow: 0px 1px 2px rgba(60, 64, 67, 0.3), 0px 1px 3px 1px rgba(60, 64, 67, 0.15);\n",
              "      fill: #174EA6;\n",
              "    }\n",
              "\n",
              "    [theme=dark] .colab-df-convert {\n",
              "      background-color: #3B4455;\n",
              "      fill: #D2E3FC;\n",
              "    }\n",
              "\n",
              "    [theme=dark] .colab-df-convert:hover {\n",
              "      background-color: #434B5C;\n",
              "      box-shadow: 0px 1px 3px 1px rgba(0, 0, 0, 0.15);\n",
              "      filter: drop-shadow(0px 1px 2px rgba(0, 0, 0, 0.3));\n",
              "      fill: #FFFFFF;\n",
              "    }\n",
              "  </style>\n",
              "\n",
              "      <script>\n",
              "        const buttonEl =\n",
              "          document.querySelector('#df-f5449438-736c-4120-aba0-4f6cf71ab6ca button.colab-df-convert');\n",
              "        buttonEl.style.display =\n",
              "          google.colab.kernel.accessAllowed ? 'block' : 'none';\n",
              "\n",
              "        async function convertToInteractive(key) {\n",
              "          const element = document.querySelector('#df-f5449438-736c-4120-aba0-4f6cf71ab6ca');\n",
              "          const dataTable =\n",
              "            await google.colab.kernel.invokeFunction('convertToInteractive',\n",
              "                                                     [key], {});\n",
              "          if (!dataTable) return;\n",
              "\n",
              "          const docLinkHtml = 'Like what you see? Visit the ' +\n",
              "            '<a target=\"_blank\" href=https://colab.research.google.com/notebooks/data_table.ipynb>data table notebook</a>'\n",
              "            + ' to learn more about interactive tables.';\n",
              "          element.innerHTML = '';\n",
              "          dataTable['output_type'] = 'display_data';\n",
              "          await google.colab.output.renderOutput(dataTable, element);\n",
              "          const docLink = document.createElement('div');\n",
              "          docLink.innerHTML = docLinkHtml;\n",
              "          element.appendChild(docLink);\n",
              "        }\n",
              "      </script>\n",
              "    </div>\n",
              "  </div>\n",
              "  "
            ]
          },
          "metadata": {},
          "execution_count": 3
        }
      ],
      "source": [
        "data = pd.read_csv(\"snp_data.csv\")\n",
        "data"
      ]
    },
    {
      "cell_type": "code",
      "execution_count": 4,
      "metadata": {
        "colab": {
          "base_uri": "https://localhost:8080/",
          "height": 424
        },
        "id": "B_bcQaG6ekmO",
        "outputId": "142c5474-b100-4ec6-cabb-97f8a6a5bb44"
      },
      "outputs": [
        {
          "output_type": "execute_result",
          "data": {
            "text/plain": [
              "           ID     trait  snp1_A/G  snp2_C/T  snp3_G/T\n",
              "0    APID0001 -0.909573       1.0       2.0       1.0\n",
              "1    APID0002 -1.042890       0.0       1.0       2.0\n",
              "2    APID0003 -0.564743       1.0       1.0       0.0\n",
              "3    APID0004  0.281898       1.0       0.0       1.0\n",
              "4    APID0005 -1.119414       0.0       2.0       1.0\n",
              "..        ...       ...       ...       ...       ...\n",
              "663  APID0664 -1.395477       2.0       2.0       0.0\n",
              "664  APID0665  0.484364       0.0       0.0       0.0\n",
              "665  APID0666  0.273132       1.0       1.0       2.0\n",
              "666  APID0667 -0.888352       1.0       1.0       0.0\n",
              "667  APID0668 -0.032362       1.0       1.0       1.0\n",
              "\n",
              "[658 rows x 5 columns]"
            ],
            "text/html": [
              "\n",
              "  <div id=\"df-d9849ece-f0fa-496b-b64c-1a8bc6c4dd51\">\n",
              "    <div class=\"colab-df-container\">\n",
              "      <div>\n",
              "<style scoped>\n",
              "    .dataframe tbody tr th:only-of-type {\n",
              "        vertical-align: middle;\n",
              "    }\n",
              "\n",
              "    .dataframe tbody tr th {\n",
              "        vertical-align: top;\n",
              "    }\n",
              "\n",
              "    .dataframe thead th {\n",
              "        text-align: right;\n",
              "    }\n",
              "</style>\n",
              "<table border=\"1\" class=\"dataframe\">\n",
              "  <thead>\n",
              "    <tr style=\"text-align: right;\">\n",
              "      <th></th>\n",
              "      <th>ID</th>\n",
              "      <th>trait</th>\n",
              "      <th>snp1_A/G</th>\n",
              "      <th>snp2_C/T</th>\n",
              "      <th>snp3_G/T</th>\n",
              "    </tr>\n",
              "  </thead>\n",
              "  <tbody>\n",
              "    <tr>\n",
              "      <th>0</th>\n",
              "      <td>APID0001</td>\n",
              "      <td>-0.909573</td>\n",
              "      <td>1.0</td>\n",
              "      <td>2.0</td>\n",
              "      <td>1.0</td>\n",
              "    </tr>\n",
              "    <tr>\n",
              "      <th>1</th>\n",
              "      <td>APID0002</td>\n",
              "      <td>-1.042890</td>\n",
              "      <td>0.0</td>\n",
              "      <td>1.0</td>\n",
              "      <td>2.0</td>\n",
              "    </tr>\n",
              "    <tr>\n",
              "      <th>2</th>\n",
              "      <td>APID0003</td>\n",
              "      <td>-0.564743</td>\n",
              "      <td>1.0</td>\n",
              "      <td>1.0</td>\n",
              "      <td>0.0</td>\n",
              "    </tr>\n",
              "    <tr>\n",
              "      <th>3</th>\n",
              "      <td>APID0004</td>\n",
              "      <td>0.281898</td>\n",
              "      <td>1.0</td>\n",
              "      <td>0.0</td>\n",
              "      <td>1.0</td>\n",
              "    </tr>\n",
              "    <tr>\n",
              "      <th>4</th>\n",
              "      <td>APID0005</td>\n",
              "      <td>-1.119414</td>\n",
              "      <td>0.0</td>\n",
              "      <td>2.0</td>\n",
              "      <td>1.0</td>\n",
              "    </tr>\n",
              "    <tr>\n",
              "      <th>...</th>\n",
              "      <td>...</td>\n",
              "      <td>...</td>\n",
              "      <td>...</td>\n",
              "      <td>...</td>\n",
              "      <td>...</td>\n",
              "    </tr>\n",
              "    <tr>\n",
              "      <th>663</th>\n",
              "      <td>APID0664</td>\n",
              "      <td>-1.395477</td>\n",
              "      <td>2.0</td>\n",
              "      <td>2.0</td>\n",
              "      <td>0.0</td>\n",
              "    </tr>\n",
              "    <tr>\n",
              "      <th>664</th>\n",
              "      <td>APID0665</td>\n",
              "      <td>0.484364</td>\n",
              "      <td>0.0</td>\n",
              "      <td>0.0</td>\n",
              "      <td>0.0</td>\n",
              "    </tr>\n",
              "    <tr>\n",
              "      <th>665</th>\n",
              "      <td>APID0666</td>\n",
              "      <td>0.273132</td>\n",
              "      <td>1.0</td>\n",
              "      <td>1.0</td>\n",
              "      <td>2.0</td>\n",
              "    </tr>\n",
              "    <tr>\n",
              "      <th>666</th>\n",
              "      <td>APID0667</td>\n",
              "      <td>-0.888352</td>\n",
              "      <td>1.0</td>\n",
              "      <td>1.0</td>\n",
              "      <td>0.0</td>\n",
              "    </tr>\n",
              "    <tr>\n",
              "      <th>667</th>\n",
              "      <td>APID0668</td>\n",
              "      <td>-0.032362</td>\n",
              "      <td>1.0</td>\n",
              "      <td>1.0</td>\n",
              "      <td>1.0</td>\n",
              "    </tr>\n",
              "  </tbody>\n",
              "</table>\n",
              "<p>658 rows × 5 columns</p>\n",
              "</div>\n",
              "      <button class=\"colab-df-convert\" onclick=\"convertToInteractive('df-d9849ece-f0fa-496b-b64c-1a8bc6c4dd51')\"\n",
              "              title=\"Convert this dataframe to an interactive table.\"\n",
              "              style=\"display:none;\">\n",
              "        \n",
              "  <svg xmlns=\"http://www.w3.org/2000/svg\" height=\"24px\"viewBox=\"0 0 24 24\"\n",
              "       width=\"24px\">\n",
              "    <path d=\"M0 0h24v24H0V0z\" fill=\"none\"/>\n",
              "    <path d=\"M18.56 5.44l.94 2.06.94-2.06 2.06-.94-2.06-.94-.94-2.06-.94 2.06-2.06.94zm-11 1L8.5 8.5l.94-2.06 2.06-.94-2.06-.94L8.5 2.5l-.94 2.06-2.06.94zm10 10l.94 2.06.94-2.06 2.06-.94-2.06-.94-.94-2.06-.94 2.06-2.06.94z\"/><path d=\"M17.41 7.96l-1.37-1.37c-.4-.4-.92-.59-1.43-.59-.52 0-1.04.2-1.43.59L10.3 9.45l-7.72 7.72c-.78.78-.78 2.05 0 2.83L4 21.41c.39.39.9.59 1.41.59.51 0 1.02-.2 1.41-.59l7.78-7.78 2.81-2.81c.8-.78.8-2.07 0-2.86zM5.41 20L4 18.59l7.72-7.72 1.47 1.35L5.41 20z\"/>\n",
              "  </svg>\n",
              "      </button>\n",
              "      \n",
              "  <style>\n",
              "    .colab-df-container {\n",
              "      display:flex;\n",
              "      flex-wrap:wrap;\n",
              "      gap: 12px;\n",
              "    }\n",
              "\n",
              "    .colab-df-convert {\n",
              "      background-color: #E8F0FE;\n",
              "      border: none;\n",
              "      border-radius: 50%;\n",
              "      cursor: pointer;\n",
              "      display: none;\n",
              "      fill: #1967D2;\n",
              "      height: 32px;\n",
              "      padding: 0 0 0 0;\n",
              "      width: 32px;\n",
              "    }\n",
              "\n",
              "    .colab-df-convert:hover {\n",
              "      background-color: #E2EBFA;\n",
              "      box-shadow: 0px 1px 2px rgba(60, 64, 67, 0.3), 0px 1px 3px 1px rgba(60, 64, 67, 0.15);\n",
              "      fill: #174EA6;\n",
              "    }\n",
              "\n",
              "    [theme=dark] .colab-df-convert {\n",
              "      background-color: #3B4455;\n",
              "      fill: #D2E3FC;\n",
              "    }\n",
              "\n",
              "    [theme=dark] .colab-df-convert:hover {\n",
              "      background-color: #434B5C;\n",
              "      box-shadow: 0px 1px 3px 1px rgba(0, 0, 0, 0.15);\n",
              "      filter: drop-shadow(0px 1px 2px rgba(0, 0, 0, 0.3));\n",
              "      fill: #FFFFFF;\n",
              "    }\n",
              "  </style>\n",
              "\n",
              "      <script>\n",
              "        const buttonEl =\n",
              "          document.querySelector('#df-d9849ece-f0fa-496b-b64c-1a8bc6c4dd51 button.colab-df-convert');\n",
              "        buttonEl.style.display =\n",
              "          google.colab.kernel.accessAllowed ? 'block' : 'none';\n",
              "\n",
              "        async function convertToInteractive(key) {\n",
              "          const element = document.querySelector('#df-d9849ece-f0fa-496b-b64c-1a8bc6c4dd51');\n",
              "          const dataTable =\n",
              "            await google.colab.kernel.invokeFunction('convertToInteractive',\n",
              "                                                     [key], {});\n",
              "          if (!dataTable) return;\n",
              "\n",
              "          const docLinkHtml = 'Like what you see? Visit the ' +\n",
              "            '<a target=\"_blank\" href=https://colab.research.google.com/notebooks/data_table.ipynb>data table notebook</a>'\n",
              "            + ' to learn more about interactive tables.';\n",
              "          element.innerHTML = '';\n",
              "          dataTable['output_type'] = 'display_data';\n",
              "          await google.colab.output.renderOutput(dataTable, element);\n",
              "          const docLink = document.createElement('div');\n",
              "          docLink.innerHTML = docLinkHtml;\n",
              "          element.appendChild(docLink);\n",
              "        }\n",
              "      </script>\n",
              "    </div>\n",
              "  </div>\n",
              "  "
            ]
          },
          "metadata": {},
          "execution_count": 4
        }
      ],
      "source": [
        "data = data.dropna()\n",
        "data"
      ]
    },
    {
      "cell_type": "markdown",
      "source": [
        "SNP_1\n"
      ],
      "metadata": {
        "id": "BnpBDVBqp_5R"
      }
    },
    {
      "cell_type": "code",
      "execution_count": null,
      "metadata": {
        "id": "uoWgschahp8U",
        "colab": {
          "base_uri": "https://localhost:8080/"
        },
        "outputId": "48b63e9e-1a8e-47c5-b4e6-1f0eb9a9d5b3"
      },
      "outputs": [
        {
          "output_type": "execute_result",
          "data": {
            "text/plain": [
              "241"
            ]
          },
          "metadata": {},
          "execution_count": 50
        }
      ],
      "source": [
        "# snp_1_x_1 = data[data['snp1_A/G']==0]['snp1_A/G']\n",
        "# snp_1_x_1 = snp_1_x_1.count()\n",
        "# snp_1_x_1"
      ]
    },
    {
      "cell_type": "code",
      "source": [
        "# snp_1_x_2 = data[data['snp1_A/G']==1]['snp1_A/G']\n",
        "# snp_1_x_2 = snp_1_x_2.count()\n",
        "# snp_1_x_2"
      ],
      "metadata": {
        "colab": {
          "base_uri": "https://localhost:8080/"
        },
        "id": "WgsQ4-65pDsD",
        "outputId": "5db75aa5-5a34-4d76-f402-023d0c98a2c0"
      },
      "execution_count": null,
      "outputs": [
        {
          "output_type": "execute_result",
          "data": {
            "text/plain": [
              "299"
            ]
          },
          "metadata": {},
          "execution_count": 51
        }
      ]
    },
    {
      "cell_type": "code",
      "source": [
        "# snp_1_x_3 = data[data['snp1_A/G']==2]['snp1_A/G']\n",
        "# snp_1_x_3 = snp_1_x_3.count()\n",
        "# snp_1_x_3"
      ],
      "metadata": {
        "colab": {
          "base_uri": "https://localhost:8080/"
        },
        "id": "jS3rszg-pDuq",
        "outputId": "b19e8c8f-cf29-41c1-e24b-36362809620e"
      },
      "execution_count": null,
      "outputs": [
        {
          "output_type": "execute_result",
          "data": {
            "text/plain": [
              "118"
            ]
          },
          "metadata": {},
          "execution_count": 52
        }
      ]
    },
    {
      "cell_type": "code",
      "source": [
        "# A2A2=0, A1A2=1, A1A1=2\n",
        "Mean_snp_1_A2A2 = data[data['snp1_A/G']==0]['trait'].mean()\n",
        "Mean_snp_1_A2A2"
      ],
      "metadata": {
        "colab": {
          "base_uri": "https://localhost:8080/"
        },
        "id": "122LT5OoBrWS",
        "outputId": "bd3c4dbf-f746-4880-b586-55216b04f8cc"
      },
      "execution_count": 5,
      "outputs": [
        {
          "output_type": "execute_result",
          "data": {
            "text/plain": [
              "-0.03616904406639003"
            ]
          },
          "metadata": {},
          "execution_count": 5
        }
      ]
    },
    {
      "cell_type": "code",
      "source": [
        "# A2A2=0, A1A2=1, A1A1=2\n",
        "Mean_snp_1_A1A2 = data[data['snp1_A/G']==1]['trait'].mean()\n",
        "Mean_snp_1_A1A2"
      ],
      "metadata": {
        "colab": {
          "base_uri": "https://localhost:8080/"
        },
        "id": "fQyDTqS1CYHG",
        "outputId": "b18eb3d9-8b14-496f-99be-b9422af244db"
      },
      "execution_count": 6,
      "outputs": [
        {
          "output_type": "execute_result",
          "data": {
            "text/plain": [
              "-0.0918692706354515"
            ]
          },
          "metadata": {},
          "execution_count": 6
        }
      ]
    },
    {
      "cell_type": "code",
      "source": [
        "# A2A2=0, A1A2=1, A1A1=2\n",
        "Mean_snp_1_A1A1 = data[data['snp1_A/G']==2]['trait'].mean()\n",
        "Mean_snp_1_A1A1"
      ],
      "metadata": {
        "colab": {
          "base_uri": "https://localhost:8080/"
        },
        "id": "OCndSOnuCYJ2",
        "outputId": "3a83be1d-3e33-44da-f8e4-dc8aeaacebc3"
      },
      "execution_count": 7,
      "outputs": [
        {
          "output_type": "execute_result",
          "data": {
            "text/plain": [
              "-0.0820235386440678"
            ]
          },
          "metadata": {},
          "execution_count": 7
        }
      ]
    },
    {
      "cell_type": "markdown",
      "source": [
        "SNP_2"
      ],
      "metadata": {
        "id": "2LIGDZX0qFmD"
      }
    },
    {
      "cell_type": "code",
      "source": [
        "# snp_2_x_1 = data[data['snp2_C/T']==0]['snp2_C/T']\n",
        "# snp_2_x_1 = snp_2_x_1.count()\n",
        "# snp_2_x_1"
      ],
      "metadata": {
        "colab": {
          "base_uri": "https://localhost:8080/"
        },
        "id": "zyI8kpcMpgKx",
        "outputId": "2d0123be-fe76-479d-b0c9-4dafab9f215a"
      },
      "execution_count": null,
      "outputs": [
        {
          "output_type": "execute_result",
          "data": {
            "text/plain": [
              "218"
            ]
          },
          "metadata": {},
          "execution_count": 36
        }
      ]
    },
    {
      "cell_type": "code",
      "source": [
        "# snp_2_x_2 = data[data['snp2_C/T']==1]['snp2_C/T']\n",
        "# snp_2_x_2 = snp_2_x_2.count()\n",
        "# snp_2_x_2"
      ],
      "metadata": {
        "colab": {
          "base_uri": "https://localhost:8080/"
        },
        "id": "brL1L5dlpgN9",
        "outputId": "5c307433-49e3-4838-b87d-516c77432dc3"
      },
      "execution_count": null,
      "outputs": [
        {
          "output_type": "execute_result",
          "data": {
            "text/plain": [
              "339"
            ]
          },
          "metadata": {},
          "execution_count": 37
        }
      ]
    },
    {
      "cell_type": "code",
      "source": [
        "# snp_2_x_3 = data[data['snp2_C/T']==2]['snp2_C/T']\n",
        "# snp_2_x_3 = snp_2_x_3.count()\n",
        "# snp_2_x_3"
      ],
      "metadata": {
        "colab": {
          "base_uri": "https://localhost:8080/"
        },
        "id": "jf536rNspgQ7",
        "outputId": "e3422fc7-5aae-468e-a60d-6c82356ec456"
      },
      "execution_count": null,
      "outputs": [
        {
          "output_type": "execute_result",
          "data": {
            "text/plain": [
              "101"
            ]
          },
          "metadata": {},
          "execution_count": 38
        }
      ]
    },
    {
      "cell_type": "code",
      "source": [
        "\n",
        "# A2A2=0, A1A2=1, A1A1=2\n",
        "Mean_snp_2_A2A2 = data[data['snp2_C/T']==0]['trait'].mean()\n",
        "Mean_snp_2_A2A2"
      ],
      "metadata": {
        "colab": {
          "base_uri": "https://localhost:8080/"
        },
        "id": "Q9nFgitDCE25",
        "outputId": "3ea71cc7-22b5-425a-8f6e-d5fab4260f8b"
      },
      "execution_count": 8,
      "outputs": [
        {
          "output_type": "execute_result",
          "data": {
            "text/plain": [
              "0.13440007876146787"
            ]
          },
          "metadata": {},
          "execution_count": 8
        }
      ]
    },
    {
      "cell_type": "code",
      "source": [
        "# A2A2=0, A1A2=1, A1A1=2\n",
        "Mean_snp_2_A1A2 = data[data['snp2_C/T']==1]['trait'].mean()\n",
        "Mean_snp_2_A1A2"
      ],
      "metadata": {
        "colab": {
          "base_uri": "https://localhost:8080/"
        },
        "id": "ttZm1eNGC3B5",
        "outputId": "0e61e31a-c3bf-48d8-898f-1e365bd6eccb"
      },
      "execution_count": 9,
      "outputs": [
        {
          "output_type": "execute_result",
          "data": {
            "text/plain": [
              "-0.11927977410029497"
            ]
          },
          "metadata": {},
          "execution_count": 9
        }
      ]
    },
    {
      "cell_type": "code",
      "source": [
        "# A2A2=0, A1A2=1, A1A1=2\n",
        "Mean_snp_2_A1A1 = data[data['snp2_C/T']==2]['trait'].mean()\n",
        "Mean_snp_2_A1A1"
      ],
      "metadata": {
        "colab": {
          "base_uri": "https://localhost:8080/"
        },
        "id": "tCWOSZasC3FL",
        "outputId": "5a2f9357-6a2a-46fd-bf6a-99cef4c4a075"
      },
      "execution_count": 10,
      "outputs": [
        {
          "output_type": "execute_result",
          "data": {
            "text/plain": [
              "-0.3438396321782178"
            ]
          },
          "metadata": {},
          "execution_count": 10
        }
      ]
    },
    {
      "cell_type": "markdown",
      "source": [
        "SNP_3"
      ],
      "metadata": {
        "id": "AZt2PW7XqJ9N"
      }
    },
    {
      "cell_type": "code",
      "source": [
        "# A2A2=0, A1A2=1, A1A1=2\n",
        "Mean_snp_3_A2A2 = data[data['snp3_G/T']==0]['trait'].mean()\n",
        "Mean_snp_3_A2A2"
      ],
      "metadata": {
        "colab": {
          "base_uri": "https://localhost:8080/"
        },
        "id": "uRfyIOUJC-Zj",
        "outputId": "d8303324-d07f-47f9-8515-ebcaa0d1f060"
      },
      "execution_count": 11,
      "outputs": [
        {
          "output_type": "execute_result",
          "data": {
            "text/plain": [
              "0.07890513753424659"
            ]
          },
          "metadata": {},
          "execution_count": 11
        }
      ]
    },
    {
      "cell_type": "code",
      "source": [
        "# A2A2=0, A1A2=1, A1A1=2\n",
        "Mean_snp_3_A1A2 = data[data['snp3_G/T']==1]['trait'].mean()\n",
        "Mean_snp_3_A1A2"
      ],
      "metadata": {
        "colab": {
          "base_uri": "https://localhost:8080/"
        },
        "id": "KLM16PznC-cW",
        "outputId": "410d006b-6656-4897-e7f8-835dfe337ecc"
      },
      "execution_count": 12,
      "outputs": [
        {
          "output_type": "execute_result",
          "data": {
            "text/plain": [
              "-0.15881398111801243"
            ]
          },
          "metadata": {},
          "execution_count": 12
        }
      ]
    },
    {
      "cell_type": "code",
      "source": [
        "# A2A2=0, A1A2=1, A1A1=2\n",
        "Mean_snp_3_A1A1 = data[data['snp3_G/T']==2]['trait'].mean()\n",
        "Mean_snp_3_A1A1"
      ],
      "metadata": {
        "colab": {
          "base_uri": "https://localhost:8080/"
        },
        "id": "O3C2vUcnC-eV",
        "outputId": "d9b259dc-6627-4e6c-da01-2e4d84e2d820"
      },
      "execution_count": 13,
      "outputs": [
        {
          "output_type": "execute_result",
          "data": {
            "text/plain": [
              "-0.10262010512820512"
            ]
          },
          "metadata": {},
          "execution_count": 13
        }
      ]
    },
    {
      "cell_type": "code",
      "source": [
        "# snp_3_x_1 = data[data['snp3_G/T']==0]['snp3_G/T']\n",
        "# snp_3_x_1 = snp_3_x_1.count()\n",
        "# snp_3_x_1"
      ],
      "metadata": {
        "colab": {
          "base_uri": "https://localhost:8080/"
        },
        "id": "y1MYW2OXqd1K",
        "outputId": "97d21772-0ab8-4f5d-f5e7-e449e24b1469"
      },
      "execution_count": null,
      "outputs": [
        {
          "output_type": "execute_result",
          "data": {
            "text/plain": [
              "219"
            ]
          },
          "metadata": {},
          "execution_count": 39
        }
      ]
    },
    {
      "cell_type": "code",
      "source": [
        "# snp_3_x_2 = data[data['snp3_G/T']==1]['snp3_G/T']\n",
        "# snp_3_x_2 = snp_3_x_2.count()\n",
        "# snp_3_x_2"
      ],
      "metadata": {
        "colab": {
          "base_uri": "https://localhost:8080/"
        },
        "id": "GwrwlIPhqd4e",
        "outputId": "9cfc8ffc-bcac-4d1b-95c2-80774f262c1b"
      },
      "execution_count": null,
      "outputs": [
        {
          "output_type": "execute_result",
          "data": {
            "text/plain": [
              "322"
            ]
          },
          "metadata": {},
          "execution_count": 40
        }
      ]
    },
    {
      "cell_type": "code",
      "source": [
        "# snp_3_x_3 = data[data['snp3_G/T']==2]['snp3_G/T']\n",
        "# snp_3_x_3 = snp_3_x_3.count()\n",
        "# snp_3_x_3"
      ],
      "metadata": {
        "colab": {
          "base_uri": "https://localhost:8080/"
        },
        "id": "oXQzGO4xqd7p",
        "outputId": "f197f73e-ae90-4a58-955f-970e6b9180be"
      },
      "execution_count": null,
      "outputs": [
        {
          "output_type": "execute_result",
          "data": {
            "text/plain": [
              "117"
            ]
          },
          "metadata": {},
          "execution_count": 44
        }
      ]
    },
    {
      "cell_type": "code",
      "source": [
        "y_snp_1 = np.array([Mean_snp_1_A2A2, Mean_snp_1_A1A2, Mean_snp_1_A1A1]) \n",
        "y_snp_2 = np.array([Mean_snp_2_A2A2, Mean_snp_2_A1A2, Mean_snp_2_A1A1]) \n",
        "y_snp_3 = np.array([Mean_snp_3_A2A2, Mean_snp_3_A1A2, Mean_snp_3_A1A1]) \n",
        "y_snp_3"
      ],
      "metadata": {
        "id": "PpDpKv7PrOgm",
        "colab": {
          "base_uri": "https://localhost:8080/"
        },
        "outputId": "7c9eed9d-9243-4c0a-a2af-21ce880a2235"
      },
      "execution_count": 16,
      "outputs": [
        {
          "output_type": "execute_result",
          "data": {
            "text/plain": [
              "array([ 0.07890514, -0.15881398, -0.10262011])"
            ]
          },
          "metadata": {},
          "execution_count": 16
        }
      ]
    },
    {
      "cell_type": "code",
      "source": [
        "y_snp_1"
      ],
      "metadata": {
        "colab": {
          "base_uri": "https://localhost:8080/"
        },
        "id": "kme6AmohrOjf",
        "outputId": "31f4b4c0-4c01-4027-e014-2ff16dd9ab7f"
      },
      "execution_count": 17,
      "outputs": [
        {
          "output_type": "execute_result",
          "data": {
            "text/plain": [
              "array([-0.03616904, -0.09186927, -0.08202354])"
            ]
          },
          "metadata": {},
          "execution_count": 17
        }
      ]
    },
    {
      "cell_type": "code",
      "source": [
        "X_snp_1 = np.array([0, 1, 2])\n",
        "X_snp_2 = np.array([0, 1, 2])\n",
        "X_snp_3 = np.array([0, 1, 2])"
      ],
      "metadata": {
        "id": "JZeBvbEarOl7"
      },
      "execution_count": 18,
      "outputs": []
    },
    {
      "cell_type": "markdown",
      "metadata": {
        "id": "xM3bwUHdjs7D"
      },
      "source": [
        "Linear regression coefficient (slope) for each snp:"
      ]
    },
    {
      "cell_type": "code",
      "execution_count": 19,
      "metadata": {
        "colab": {
          "base_uri": "https://localhost:8080/"
        },
        "id": "ysSUU7kfeOLD",
        "outputId": "70bb0b20-db6a-471d-9049-049e73668799"
      },
      "outputs": [
        {
          "output_type": "execute_result",
          "data": {
            "text/plain": [
              "array([-0.02292725])"
            ]
          },
          "metadata": {},
          "execution_count": 19
        }
      ],
      "source": [
        "linear_reg_snp_1 = LinearRegression(fit_intercept=True, copy_X=True, n_jobs=None, positive=False).fit(X_snp_1.reshape(-1, 1), y_snp_1)\n",
        "linear_reg_snp_1.coef_"
      ]
    },
    {
      "cell_type": "code",
      "execution_count": 20,
      "metadata": {
        "colab": {
          "base_uri": "https://localhost:8080/"
        },
        "id": "ybLHXGAFgtxJ",
        "outputId": "f3c8e282-1030-4d85-8ba9-664a05cb8c3e"
      },
      "outputs": [
        {
          "output_type": "execute_result",
          "data": {
            "text/plain": [
              "array([-0.23911986])"
            ]
          },
          "metadata": {},
          "execution_count": 20
        }
      ],
      "source": [
        "linear_reg_snp_2 = LinearRegression(fit_intercept=True, copy_X=True, n_jobs=None, positive=False).fit(X_snp_2.reshape(-1, 1), y_snp_2)\n",
        "linear_reg_snp_2.coef_"
      ]
    },
    {
      "cell_type": "code",
      "execution_count": 21,
      "metadata": {
        "colab": {
          "base_uri": "https://localhost:8080/"
        },
        "id": "6qija7E_gt8g",
        "outputId": "8149f57e-80ad-458c-828b-f093b7aab463"
      },
      "outputs": [
        {
          "output_type": "execute_result",
          "data": {
            "text/plain": [
              "array([-0.09076262])"
            ]
          },
          "metadata": {},
          "execution_count": 21
        }
      ],
      "source": [
        "linear_reg_snp_3 = LinearRegression(fit_intercept=True, copy_X=True, n_jobs=None, positive=False).fit(X_snp_3.reshape(-1, 1), y_snp_3)\n",
        "linear_reg_snp_3.coef_"
      ]
    },
    {
      "cell_type": "markdown",
      "source": [
        "Predict"
      ],
      "metadata": {
        "id": "MTPqyKF8uuU2"
      }
    },
    {
      "cell_type": "code",
      "source": [
        "y_snp_1_pred = linear_reg_snp_1.predict(X_snp_1.reshape(-1,1))\n",
        "y_snp_1_pred "
      ],
      "metadata": {
        "colab": {
          "base_uri": "https://localhost:8080/"
        },
        "id": "68KZTYaxutpc",
        "outputId": "fee68497-a1fc-4185-86ec-dc2509fd434b"
      },
      "execution_count": 22,
      "outputs": [
        {
          "output_type": "execute_result",
          "data": {
            "text/plain": [
              "array([-0.04709337, -0.07002062, -0.09294787])"
            ]
          },
          "metadata": {},
          "execution_count": 22
        }
      ]
    },
    {
      "cell_type": "code",
      "source": [
        "y_snp_2_pred = linear_reg_snp_2.predict(X_snp_2.reshape(-1,1))\n",
        "y_snp_2_pred "
      ],
      "metadata": {
        "colab": {
          "base_uri": "https://localhost:8080/"
        },
        "id": "YsefL-cFutsE",
        "outputId": "46d26107-39a1-4108-fdc1-d6a2d6f67870"
      },
      "execution_count": 23,
      "outputs": [
        {
          "output_type": "execute_result",
          "data": {
            "text/plain": [
              "array([ 0.12954675, -0.10957311, -0.34869296])"
            ]
          },
          "metadata": {},
          "execution_count": 23
        }
      ]
    },
    {
      "cell_type": "code",
      "source": [
        "y_snp_3_pred = linear_reg_snp_3.predict(X_snp_3.reshape(-1,1))\n",
        "y_snp_3_pred"
      ],
      "metadata": {
        "colab": {
          "base_uri": "https://localhost:8080/"
        },
        "id": "BImjBUGeutuf",
        "outputId": "c8bb40c7-108a-4519-c67f-d76c720db9ba"
      },
      "execution_count": 24,
      "outputs": [
        {
          "output_type": "execute_result",
          "data": {
            "text/plain": [
              "array([ 0.02991964, -0.06084298, -0.1516056 ])"
            ]
          },
          "metadata": {},
          "execution_count": 24
        }
      ]
    },
    {
      "cell_type": "markdown",
      "metadata": {
        "id": "75pFsG1-j3UF"
      },
      "source": [
        "Descriptive statistics for each snp, print the p-value:"
      ]
    },
    {
      "cell_type": "code",
      "execution_count": 25,
      "metadata": {
        "colab": {
          "base_uri": "https://localhost:8080/"
        },
        "id": "Qs45L1zDivkb",
        "outputId": "1e535c4d-50c1-4abd-b31b-1d3f69cd9ec7"
      },
      "outputs": [
        {
          "output_type": "execute_result",
          "data": {
            "text/plain": [
              "0.4392478794200693"
            ]
          },
          "metadata": {},
          "execution_count": 25
        }
      ],
      "source": [
        " slope_snp_1, intercept_snp_1, r_value_snp_1, p_value_snp_1, std_err_snp_1 = stats.linregress(X_snp_1, y_snp_1)\n",
        " p_value_snp_1"
      ]
    },
    {
      "cell_type": "code",
      "execution_count": 26,
      "metadata": {
        "colab": {
          "base_uri": "https://localhost:8080/"
        },
        "id": "8nQ0Gn0IjFqa",
        "outputId": "ff8b6ddb-0c19-4516-acad-26c9f5a6dbfb"
      },
      "outputs": [
        {
          "output_type": "execute_result",
          "data": {
            "text/plain": [
              "0.02237104851367674"
            ]
          },
          "metadata": {},
          "execution_count": 26
        }
      ],
      "source": [
        " slope_snp_2, intercept_snp_2, r_value_snp_2, p_value_snp_2, std_err_snp_2 = stats.linregress(X_snp_2, y_snp_2)\n",
        " p_value_snp_2"
      ]
    },
    {
      "cell_type": "code",
      "execution_count": 27,
      "metadata": {
        "colab": {
          "base_uri": "https://localhost:8080/"
        },
        "id": "0_syJpnCjRC3",
        "outputId": "d37ddde8-55eb-42ed-85ba-da9478ab07a6"
      },
      "outputs": [
        {
          "output_type": "execute_result",
          "data": {
            "text/plain": [
              "0.4785567144795497"
            ]
          },
          "metadata": {},
          "execution_count": 27
        }
      ],
      "source": [
        " slope_snp_3, intercept_snp_3, r_value_snp_3, p_value_snp_3, std_err_snp_3 = stats.linregress(X_snp_3, y_snp_3)\n",
        " p_value_snp_3"
      ]
    },
    {
      "cell_type": "code",
      "execution_count": 29,
      "metadata": {
        "id": "ZsHUydHseZeE",
        "colab": {
          "base_uri": "https://localhost:8080/",
          "height": 262
        },
        "outputId": "32ba2620-4148-4b74-8349-d647407684f3"
      },
      "outputs": [
        {
          "output_type": "display_data",
          "data": {
            "text/plain": [
              "<Figure size 432x288 with 1 Axes>"
            ],
            "image/png": "[encoded data removed]"
          },
          "metadata": {}
        }
      ],
      "source": [
        "plt.scatter(X_snp_1, y_snp_1, color=\"black\")\n",
        "plt.plot(X_snp_1, y_snp_1_pred, color=\"blue\", linewidth=3)\n",
        "\n",
        "plt.xticks(())\n",
        "plt.yticks(())\n",
        "plt.xlabel('Trait')\n",
        "plt.ylabel('Genopyte')\n",
        "plt.show()"
      ]
    },
    {
      "cell_type": "code",
      "execution_count": 30,
      "metadata": {
        "id": "6UFPhwlGhlH4",
        "colab": {
          "base_uri": "https://localhost:8080/",
          "height": 262
        },
        "outputId": "5d8c7a39-f292-46e2-d49e-c17de6de0384"
      },
      "outputs": [
        {
          "output_type": "display_data",
          "data": {
            "text/plain": [
              "<Figure size 432x288 with 1 Axes>"
            ],
            "image/png": "[encoded data removed]"
          },
          "metadata": {}
        }
      ],
      "source": [
        "plt.scatter(X_snp_2, y_snp_2, color=\"black\")\n",
        "plt.plot(X_snp_2, y_snp_2_pred, color=\"blue\", linewidth=3)\n",
        "\n",
        "plt.xticks(())\n",
        "plt.yticks(())\n",
        "plt.xlabel('Trait')\n",
        "plt.ylabel('Genopyte')\n",
        "plt.show()"
      ]
    },
    {
      "cell_type": "code",
      "execution_count": 31,
      "metadata": {
        "id": "Wp028Xy4hlLB",
        "colab": {
          "base_uri": "https://localhost:8080/",
          "height": 262
        },
        "outputId": "ad0371e6-34cd-47d4-b3a0-ccd60c1c6e0f"
      },
      "outputs": [
        {
          "output_type": "display_data",
          "data": {
            "text/plain": [
              "<Figure size 432x288 with 1 Axes>"
            ],
            "image/png": "[encoded data removed]"
          },
          "metadata": {}
        }
      ],
      "source": [
        "plt.scatter(X_snp_3, y_snp_3, color=\"black\")\n",
        "plt.plot(X_snp_3, y_snp_3_pred, color=\"blue\", linewidth=3)\n",
        "\n",
        "plt.xticks(())\n",
        "plt.yticks(())\n",
        "plt.xlabel('Trait')\n",
        "plt.ylabel('Genopyte')\n",
        "plt.show()"
      ]
    }
  ],
  "metadata": {
    "accelerator": "GPU",
    "colab": {
      "provenance": []
    },
    "gpuClass": "standard",
    "kernelspec": {
      "display_name": "Python 3",
      "name": "python3"
    },
    "language_info": {
      "name": "python"
    }
  },
  "nbformat": 4,
  "nbformat_minor": 0
}